{
 "cells": [
  {
   "cell_type": "markdown",
   "metadata": {},
   "source": [
    "### Projeto"
   ]
  },
  {
   "cell_type": "markdown",
   "metadata": {},
   "source": [
    "Análise básica de dados sobre venda de cursos online"
   ]
  },
  {
   "cell_type": "markdown",
   "metadata": {},
   "source": [
    "#### Importando as bibliotecas necessárias"
   ]
  },
  {
   "cell_type": "code",
   "execution_count": 159,
   "metadata": {},
   "outputs": [],
   "source": [
    "import os\n",
    "from pathlib import Path\n",
    "import pandas as pd\n",
    "from matplotlib import pyplot as plt\n",
    "import seaborn as sns"
   ]
  },
  {
   "cell_type": "markdown",
   "metadata": {},
   "source": [
    "#### Carregando os dados que serão tratados\n",
    "* Carregamento de dados de forma dinâmica. \n",
    "\n",
    "    _Basta alterar o nome do arquivo na variável \"FILENAME\"._\n",
    "     \n",
    "    _A variável \"dataset\", recebe as informações sobre o caminho correto do arquivo proposto para análise._"
   ]
  },
  {
   "cell_type": "code",
   "execution_count": 160,
   "metadata": {},
   "outputs": [],
   "source": [
    "FILENAME = 'dataset.csv'\n",
    "BASE_DIR = Path().resolve().parent\n",
    "DATA_DIR = os.path.join(BASE_DIR, 'data')\n",
    "\n",
    "dataset = os.path.join(DATA_DIR, FILENAME)"
   ]
  },
  {
   "cell_type": "markdown",
   "metadata": {},
   "source": [
    "#### Exploração dos dados\n",
    "* Exibição das cinco primeiras linhas"
   ]
  },
  {
   "cell_type": "code",
   "execution_count": 161,
   "metadata": {},
   "outputs": [
    {
     "data": {
      "text/html": [
       "<div>\n",
       "<style scoped>\n",
       "    .dataframe tbody tr th:only-of-type {\n",
       "        vertical-align: middle;\n",
       "    }\n",
       "\n",
       "    .dataframe tbody tr th {\n",
       "        vertical-align: top;\n",
       "    }\n",
       "\n",
       "    .dataframe thead th {\n",
       "        text-align: right;\n",
       "    }\n",
       "</style>\n",
       "<table border=\"1\" class=\"dataframe\">\n",
       "  <thead>\n",
       "    <tr style=\"text-align: right;\">\n",
       "      <th></th>\n",
       "      <th>ID</th>\n",
       "      <th>Nome do Curso</th>\n",
       "      <th>Quantidade de Vendas</th>\n",
       "      <th>Preço Unitário</th>\n",
       "      <th>Data</th>\n",
       "    </tr>\n",
       "  </thead>\n",
       "  <tbody>\n",
       "    <tr>\n",
       "      <th>0</th>\n",
       "      <td>1</td>\n",
       "      <td>Introdução à Programação em Python</td>\n",
       "      <td>50</td>\n",
       "      <td>39.9</td>\n",
       "      <td>2023-01-01</td>\n",
       "    </tr>\n",
       "    <tr>\n",
       "      <th>1</th>\n",
       "      <td>2</td>\n",
       "      <td>Desenvolvimento Web com HTML e CSS</td>\n",
       "      <td>30</td>\n",
       "      <td>59.9</td>\n",
       "      <td>2023-01-02</td>\n",
       "    </tr>\n",
       "    <tr>\n",
       "      <th>2</th>\n",
       "      <td>3</td>\n",
       "      <td>JavaScript Avançado: Frameworks e Bibliotecas</td>\n",
       "      <td>20</td>\n",
       "      <td>79.9</td>\n",
       "      <td>2023-01-03</td>\n",
       "    </tr>\n",
       "    <tr>\n",
       "      <th>3</th>\n",
       "      <td>4</td>\n",
       "      <td>Introdução ao Machine Learning</td>\n",
       "      <td>15</td>\n",
       "      <td>99.9</td>\n",
       "      <td>2023-01-04</td>\n",
       "    </tr>\n",
       "    <tr>\n",
       "      <th>4</th>\n",
       "      <td>5</td>\n",
       "      <td>Desenvolvimento Mobile com React Native</td>\n",
       "      <td>25</td>\n",
       "      <td>69.9</td>\n",
       "      <td>2023-01-05</td>\n",
       "    </tr>\n",
       "  </tbody>\n",
       "</table>\n",
       "</div>"
      ],
      "text/plain": [
       "   ID                                  Nome do Curso  Quantidade de Vendas  \\\n",
       "0   1             Introdução à Programação em Python                    50   \n",
       "1   2             Desenvolvimento Web com HTML e CSS                    30   \n",
       "2   3  JavaScript Avançado: Frameworks e Bibliotecas                    20   \n",
       "3   4                 Introdução ao Machine Learning                    15   \n",
       "4   5        Desenvolvimento Mobile com React Native                    25   \n",
       "\n",
       "   Preço Unitário        Data  \n",
       "0            39.9  2023-01-01  \n",
       "1            59.9  2023-01-02  \n",
       "2            79.9  2023-01-03  \n",
       "3            99.9  2023-01-04  \n",
       "4            69.9  2023-01-05  "
      ]
     },
     "execution_count": 161,
     "metadata": {},
     "output_type": "execute_result"
    }
   ],
   "source": [
    "# o método para leitura será alterado conforme o formato/extensão do arquivo, .csv, .txt, .json, etc\n",
    "df = pd.read_csv(dataset)\n",
    "\n",
    "df.head()"
   ]
  },
  {
   "cell_type": "markdown",
   "metadata": {},
   "source": [
    "* Número de Linhas e Colunas presentes no Dataframe"
   ]
  },
  {
   "cell_type": "code",
   "execution_count": 162,
   "metadata": {},
   "outputs": [
    {
     "name": "stdout",
     "output_type": "stream",
     "text": [
      "----------------------------------------------------------------------\n",
      "| \tNº todal de Linhas: 25\n",
      "| \tNº todal de Colunas: 5\n",
      "----------------------------------------------------------------------\n"
     ]
    }
   ],
   "source": [
    "print('-' * 70)\n",
    "print(f'| \\tNº todal de Linhas: {df.shape[0]}')\n",
    "print(f'| \\tNº todal de Colunas: {df.shape[1]}')\n",
    "print('-' * 70)"
   ]
  },
  {
   "cell_type": "markdown",
   "metadata": {},
   "source": [
    "* Tipos de dados para cada coluna do DataFrame"
   ]
  },
  {
   "cell_type": "code",
   "execution_count": 163,
   "metadata": {},
   "outputs": [
    {
     "data": {
      "text/plain": [
       "ID                        int64\n",
       "Nome do Curso            object\n",
       "Quantidade de Vendas      int64\n",
       "Preço Unitário          float64\n",
       "Data                     object\n",
       "dtype: object"
      ]
     },
     "execution_count": 163,
     "metadata": {},
     "output_type": "execute_result"
    }
   ],
   "source": [
    "df.dtypes"
   ]
  },
  {
   "cell_type": "markdown",
   "metadata": {},
   "source": [
    "#### Estatísticas descritivas"
   ]
  },
  {
   "cell_type": "markdown",
   "metadata": {},
   "source": [
    "* Estatísticas descritivas básicas para colunas numéricas do conjunto de dados, como média, mediana, mínimo, máximo e desvio padrão\n",
    "    "
   ]
  },
  {
   "cell_type": "code",
   "execution_count": 164,
   "metadata": {},
   "outputs": [
    {
     "name": "stdout",
     "output_type": "stream",
     "text": [
      "----------------------------------------------------------------------\n",
      "| \tMédia - quantidade de vendas: 17.96\n",
      "| \tMédia - preço unitário: 83.90\n",
      "| \tMediana - quantidade de vendas: 15.00\n",
      "| \tMediana - preço unitário: 79.90\n",
      "| \tValor Máximo - quantidade de vendas: 50.00\n",
      "| \tValor Mínimo - quantidade de vendas: 5.00\n",
      "| \tValor Máximo - preço unitário: 119.90\n",
      "| \tValor Mínimo - preço unitário: 39.90\n",
      "| \tDesvio Padrão - quantidade de vendas: 10.92\n",
      "| \tDesvio Padrão - Preço Unitário: 21.98\n",
      "----------------------------------------------------------------------\n"
     ]
    },
    {
     "data": {
      "text/html": [
       "<div>\n",
       "<style scoped>\n",
       "    .dataframe tbody tr th:only-of-type {\n",
       "        vertical-align: middle;\n",
       "    }\n",
       "\n",
       "    .dataframe tbody tr th {\n",
       "        vertical-align: top;\n",
       "    }\n",
       "\n",
       "    .dataframe thead th {\n",
       "        text-align: right;\n",
       "    }\n",
       "</style>\n",
       "<table border=\"1\" class=\"dataframe\">\n",
       "  <thead>\n",
       "    <tr style=\"text-align: right;\">\n",
       "      <th></th>\n",
       "      <th>Quantidade de Vendas</th>\n",
       "      <th>Preço Unitário</th>\n",
       "    </tr>\n",
       "  </thead>\n",
       "  <tbody>\n",
       "    <tr>\n",
       "      <th>Média</th>\n",
       "      <td>17.960000</td>\n",
       "      <td>83.900000</td>\n",
       "    </tr>\n",
       "    <tr>\n",
       "      <th>Mediana</th>\n",
       "      <td>15.000000</td>\n",
       "      <td>79.900000</td>\n",
       "    </tr>\n",
       "    <tr>\n",
       "      <th>Máximo</th>\n",
       "      <td>50.000000</td>\n",
       "      <td>119.900000</td>\n",
       "    </tr>\n",
       "    <tr>\n",
       "      <th>Mínimo</th>\n",
       "      <td>5.000000</td>\n",
       "      <td>39.900000</td>\n",
       "    </tr>\n",
       "    <tr>\n",
       "      <th>Desvio Padrão</th>\n",
       "      <td>10.921996</td>\n",
       "      <td>21.984843</td>\n",
       "    </tr>\n",
       "  </tbody>\n",
       "</table>\n",
       "</div>"
      ],
      "text/plain": [
       "               Quantidade de Vendas  Preço Unitário\n",
       "Média                     17.960000       83.900000\n",
       "Mediana                   15.000000       79.900000\n",
       "Máximo                    50.000000      119.900000\n",
       "Mínimo                     5.000000       39.900000\n",
       "Desvio Padrão             10.921996       21.984843"
      ]
     },
     "execution_count": 164,
     "metadata": {},
     "output_type": "execute_result"
    }
   ],
   "source": [
    "print(f'-' * 70)\n",
    "print(f'| \\tMédia - quantidade de vendas: {df['Quantidade de Vendas'].mean():.2f}')\n",
    "print(f'| \\tMédia - preço unitário: {df['Preço Unitário'].mean():.2f}')\n",
    "print(f'| \\tMediana - quantidade de vendas: {df['Quantidade de Vendas'].median():.2f}')\n",
    "print(f'| \\tMediana - preço unitário: {df['Preço Unitário'].median():.2f}')\n",
    "print(f'| \\tValor Máximo - quantidade de vendas: {df['Quantidade de Vendas'].max():.2f}')\n",
    "print(f'| \\tValor Mínimo - quantidade de vendas: {df['Quantidade de Vendas'].min():.2f}')\n",
    "print(f'| \\tValor Máximo - preço unitário: {df['Preço Unitário'].max():.2f}')\n",
    "print(f'| \\tValor Mínimo - preço unitário: {df['Preço Unitário'].min():.2f}')\n",
    "print(f'| \\tDesvio Padrão - quantidade de vendas: {df['Quantidade de Vendas'].std():.2f}')\n",
    "print(f'| \\tDesvio Padrão - Preço Unitário: {df['Preço Unitário'].std():.2f}')\n",
    "print(f'-' * 70)\n",
    "\n",
    "statistics = {\n",
    "    'Quantidade de Vendas': [\n",
    "        df['Quantidade de Vendas'].mean(), \n",
    "        df['Quantidade de Vendas'].median(), \n",
    "        df['Quantidade de Vendas'].max(), \n",
    "        df['Quantidade de Vendas'].min(), \n",
    "        df['Quantidade de Vendas'].std()\n",
    "    ],\n",
    "    'Preço Unitário': [\n",
    "        df['Preço Unitário'].mean(),\n",
    "        df['Preço Unitário'].median(),\n",
    "        df['Preço Unitário'].max(),\n",
    "        df['Preço Unitário'].min(),\n",
    "        df['Preço Unitário'].std()\n",
    "    ]\n",
    "}\n",
    "\n",
    "index = ['Média', 'Mediana', 'Máximo', 'Mínimo', 'Desvio Padrão']\n",
    "\n",
    "df2 = pd.DataFrame(data=statistics, index=index)\n",
    "df2"
   ]
  },
  {
   "cell_type": "markdown",
   "metadata": {},
   "source": [
    "#### Visualização dos dados"
   ]
  },
  {
   "cell_type": "markdown",
   "metadata": {},
   "source": [
    "* Contagem de Categorias"
   ]
  },
  {
   "cell_type": "code",
   "execution_count": 190,
   "metadata": {},
   "outputs": [
    {
     "name": "stdout",
     "output_type": "stream",
     "text": [
      "    ID                                  Nome do Curso\n",
      "0    1             Introdução à Programação em Python\n",
      "1    2             Desenvolvimento Web com HTML e CSS\n",
      "2    3  JavaScript Avançado: Frameworks e Bibliotecas\n",
      "3    4                 Introdução ao Machine Learning\n",
      "4    5        Desenvolvimento Mobile com React Native\n",
      "5    6                   Arquitetura de Microserviços\n",
      "6    7                     Banco de Dados SQL e NoSQL\n",
      "7    8           Segurança da Informação: Fundamentos\n",
      "8    9                        Cloud Computing com AWS\n",
      "9   10          DevOps: Integração e Entrega Contínua\n",
      "10  11             Desenvolvimento Web com HTML e CSS\n",
      "11  12  JavaScript Avançado: Frameworks e Bibliotecas\n",
      "12  13                 Introdução ao Machine Learning\n",
      "13  14        Desenvolvimento Mobile com React Native\n",
      "14  15                   Arquitetura de Microserviços\n",
      "15  16                     Banco de Dados SQL e NoSQL\n",
      "16  17           Segurança da Informação: Fundamentos\n",
      "17  18                        Cloud Computing com AWS\n",
      "18  19          DevOps: Integração e Entrega Contínua\n",
      "19  20             Introdução à Programação em Python\n",
      "20  21             Desenvolvimento Web com HTML e CSS\n",
      "21  22  JavaScript Avançado: Frameworks e Bibliotecas\n",
      "22  23                 Introdução ao Machine Learning\n",
      "23  24        Desenvolvimento Mobile com React Native\n",
      "24  25                   Arquitetura de Microserviços\n"
     ]
    },
    {
     "data": {
      "image/png": "[encoded data removed]",
      "text/plain": [
       "<Figure size 800x800 with 1 Axes>"
      ]
     },
     "metadata": {},
     "output_type": "display_data"
    }
   ],
   "source": [
    "df3 = df[['ID', 'Nome do Curso']]\n",
    "print(df3)\n",
    "\n",
    "courses_id = df.rename(columns={'ID': 'ID dos Cursos'})\n",
    "plt.figure(figsize=(8, 8))\n",
    "sns.barplot(data=df, x=courses_id['ID dos Cursos'], y=df['Quantidade de Vendas'], hue=df['Quantidade de Vendas'])\n",
    "plt.show()"
   ]
  },
  {
   "cell_type": "markdown",
   "metadata": {},
   "source": [
    "* Relação entre as variáveis"
   ]
  },
  {
   "cell_type": "code",
   "execution_count": 170,
   "metadata": {},
   "outputs": [
    {
     "data": {
      "image/png": "[encoded data removed]",
      "text/plain": [
       "<Figure size 600x600 with 1 Axes>"
      ]
     },
     "metadata": {},
     "output_type": "display_data"
    }
   ],
   "source": [
    "sns.set_style('white')\n",
    "plt.figure(figsize=(6, 6))\n",
    "plt.title = 'Relação Quantidade de Vendas X Preço do Curso'\n",
    "sns.scatterplot(x='Preço Unitário', y='Quantidade de Vendas', data=df, hue='Quantidade de Vendas')\n",
    "plt.show()"
   ]
  },
  {
   "cell_type": "code",
   "execution_count": null,
   "metadata": {},
   "outputs": [],
   "source": []
  }
 ],
 "metadata": {
  "kernelspec": {
   "display_name": "trilha-dados-jr-codigo-certo-coders-AdZkbnfD-py3.12",
   "language": "python",
   "name": "python3"
  },
  "language_info": {
   "codemirror_mode": {
    "name": "ipython",
    "version": 3
   },
   "file_extension": ".py",
   "mimetype": "text/x-python",
   "name": "python",
   "nbconvert_exporter": "python",
   "pygments_lexer": "ipython3",
   "version": "3.12.4"
  }
 },
 "nbformat": 4,
 "nbformat_minor": 2
}
